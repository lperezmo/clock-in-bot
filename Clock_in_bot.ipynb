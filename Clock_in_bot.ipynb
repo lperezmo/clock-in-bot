{
 "cells": [
  {
   "cell_type": "markdown",
   "id": "6c2e9e66-f6cd-43ec-b96d-4e6aef274937",
   "metadata": {
    "id": "6c2e9e66-f6cd-43ec-b96d-4e6aef274937"
   },
   "source": [
    "## Clock in between 6:50-7:03 am"
   ]
  },
  {
   "cell_type": "code",
   "execution_count": null,
   "id": "a6bc10f0-b38f-4afd-a7b1-80c90fef29ec",
   "metadata": {
    "id": "a6bc10f0-b38f-4afd-a7b1-80c90fef29ec"
   },
   "outputs": [],
   "source": [
    "# Import packages and define functions\n",
    "import schedule\n",
    "import time\n",
    "import pyautogui\n",
    "import numpy as np\n",
    "import random\n",
    "\n",
    "def randomTime():\n",
    "    \"\"\"Randomize times, skewed towards earlier than 7\"\"\"\n",
    "    # generate time between 6:50 am and 7:03 am\n",
    "    hours = np.random.choice(a=[6,7],size=1, p=[0.70, 0.30])[0]\n",
    "    if hours == 6:\n",
    "        minutes = np.random.randint(50,59)\n",
    "    if hours == 7:\n",
    "        minutes = np.random.randint(0, 3)\n",
    "    time_string = \"{:02}:{:02}\".format(hours, minutes)\n",
    "    return time_string\n",
    "\n",
    "def clock_in():\n",
    "    # Leave task window open with cursor on enter # id\n",
    "    # Type employee number, press tab, click enter\n",
    "    time.sleep(5)\n",
    "    pyautogui.typewrite(['2', '9', 'x', 'x'], interval=1)\n",
    "    pyautogui.press('tab')\n",
    "    time.sleep(1)\n",
    "    pyautogui.press('enter')\n",
    "    time.sleep(1)\n",
    "    pyautogui.press('tab')\n",
    "    time.sleep(1)\n",
    "    pyautogui.press('tab')\n",
    "    time.sleep(1)\n",
    "    # Take screenshot right before pressing enter\n",
    "    pyautogui.screenshot('1.png')\n",
    "    pyautogui.press('enter')\n",
    "    # Take screenshot after pressing enter to see that right prompt comes up\n",
    "    pyautogui.screenshot('2.png')\n",
    "    # Select 'yes' \n",
    "    time.sleep(3)\n",
    "    pyautogui.press('tab')\n",
    "    # Take screenshot to verify 'yes' is selected\n",
    "    pyautogui.screenshot('3.png') \n",
    "    time.sleep(1)\n",
    "    pyautogui.press('enter')\n",
    "    time.sleep(1)\n",
    "    # Take screenshot at the end to verify task was completed successfully\n",
    "    pyautogui.screenshot('4.png')\n"
   ]
  },
  {
   "cell_type": "code",
   "execution_count": null,
   "id": "a5b6ab2d-b17e-4d48-8e60-19dd19de52d1",
   "metadata": {
    "id": "a5b6ab2d-b17e-4d48-8e60-19dd19de52d1",
    "outputId": "368bbb4d-4582-47f9-c476-a8034c0cc2f3"
   },
   "outputs": [
    {
     "name": "stdout",
     "output_type": "stream",
     "text": [
      "['07:01', '06:51', '06:56', '06:51', '06:45']\n"
     ]
    }
   ],
   "source": [
    "# Generate random times for all week\n",
    "random_times = []\n",
    "for i in range(5):\n",
    "    random_times.append(randomTime())\n",
    "print(random_times)"
   ]
  },
  {
   "cell_type": "code",
   "execution_count": null,
   "id": "c916097d-b911-48f4-8556-6f2bbcbf729a",
   "metadata": {
    "id": "c916097d-b911-48f4-8556-6f2bbcbf729a"
   },
   "outputs": [],
   "source": [
    "# Schedule clock in at generated random times)\n",
    "schedule.every().monday.at(random_times[0]).do(clock_in)\n",
    "schedule.every().tuesday.at(random_times[1]).do(clock_in)\n",
    "schedule.every().wednesday.at(random_times[2]).do(clock_in)\n",
    "schedule.every().thursday.at(random_times[3]).do(clock_in)\n",
    "schedule.every().friday.at(random_times[4]).do(clock_in)\n",
    "\n",
    "while True:\n",
    "    schedule.run_pending()\n",
    "    time.sleep(1)"
   ]
  },
  {
   "cell_type": "code",
   "execution_count": null,
   "id": "258e917e-5924-43ef-aa63-7064ae2699d3",
   "metadata": {
    "id": "258e917e-5924-43ef-aa63-7064ae2699d3"
   },
   "outputs": [],
   "source": [
    "schedule.clear()"
   ]
  },
  {
   "cell_type": "code",
   "execution_count": null,
   "id": "12d9c7d3-b2aa-4e99-bc95-1652588df5ea",
   "metadata": {
    "id": "12d9c7d3-b2aa-4e99-bc95-1652588df5ea"
   },
   "outputs": [],
   "source": []
  }
 ],
 "metadata": {
  "colab": {
   "collapsed_sections": [],
   "provenance": []
  },
  "kernelspec": {
   "display_name": "Python 3 (ipykernel)",
   "language": "python",
   "name": "python3"
  },
  "language_info": {
   "codemirror_mode": {
    "name": "ipython",
    "version": 3
   },
   "file_extension": ".py",
   "mimetype": "text/x-python",
   "name": "python",
   "nbconvert_exporter": "python",
   "pygments_lexer": "ipython3",
   "version": "3.7.11"
  }
 },
 "nbformat": 4,
 "nbformat_minor": 5
}
